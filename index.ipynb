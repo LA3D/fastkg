{
 "cells": [
  {
   "cell_type": "code",
   "execution_count": null,
   "metadata": {},
   "outputs": [],
   "source": [
    "#| hide\n",
    "from fastkg.core import KnowledgeGraph\n",
    "from fastkg.sqlite import *\n",
    "from rdflib import *"
   ]
  },
  {
   "cell_type": "markdown",
   "metadata": {},
   "source": [
    "# fastkg\n",
    "\n",
    "> ast and efficient storage solutions for RDF graphs. Set of utilities for [RDFLIB](https://github.com/RDFLib/rdflib) to use parquet as storage, which is somewhat faster than turtle or ntriples serialization. The sqlite store extends this storage to use sqlite a s persistent graph store. "
   ]
  },
  {
   "cell_type": "markdown",
   "metadata": {},
   "source": [
    "This library provides optimized storage solutions for RDFLib graphs, focusing on:\n",
    "\n",
    "1. Parquet storage for efficient columnar compression\n",
    "2. SQLite storage for portable, indexed graph databases"
   ]
  },
  {
   "cell_type": "markdown",
   "metadata": {},
   "source": [
    "## Developer Guide"
   ]
  },
  {
   "cell_type": "markdown",
   "metadata": {},
   "source": [
    "If you are new to using `nbdev` here are some useful pointers to get you started."
   ]
  },
  {
   "cell_type": "markdown",
   "metadata": {},
   "source": [
    "### Install {{lib_path}} in Development mode"
   ]
  },
  {
   "cell_type": "markdown",
   "metadata": {},
   "source": [
    "```sh\n",
    "# make sure {{lib_path}} package is installed in development mode\n",
    "$ pip install -e .\n",
    "\n",
    "# make changes under nbs/ directory\n",
    "# ...\n",
    "\n",
    "# compile to have changes apply to {{lib_path}}\n",
    "$ nbdev_prepare\n",
    "```"
   ]
  },
  {
   "cell_type": "markdown",
   "metadata": {},
   "source": [
    "## Usage"
   ]
  },
  {
   "cell_type": "markdown",
   "metadata": {},
   "source": [
    "### Installation"
   ]
  },
  {
   "cell_type": "markdown",
   "metadata": {},
   "source": [
    "Install latest from the GitHub [repository][repo]:\n",
    "\n",
    "```sh\n",
    "$ pip install git+https://github.com/la3d/fastkg.git\n",
    "```\n",
    "\n",
    "\n",
    "[repo]: {{git_url}}\n",
    "[docs]: https://la3d.github.io/fastkg/"
   ]
  },
  {
   "cell_type": "markdown",
   "metadata": {},
   "source": [
    "## Quick Start"
   ]
  },
  {
   "cell_type": "markdown",
   "metadata": {},
   "source": [
    "### Using parquet as a fast store"
   ]
  },
  {
   "cell_type": "code",
   "execution_count": null,
   "metadata": {},
   "outputs": [
    {
     "name": "stdout",
     "output_type": "stream",
     "text": [
      "Created graph with 3 triples\n",
      "Saved graph to Parquet file\n",
      "Loaded 3 triples from Parquet file\n",
      "Found person: \"John Doe\"\n"
     ]
    }
   ],
   "source": [
    "from fastkg.core import KnowledgeGraph\n",
    "import rdflib\n",
    "\n",
    "# Create a knowledge graph\n",
    "kg = KnowledgeGraph()\n",
    "\n",
    "# Add some triples\n",
    "ex = rdflib.Namespace(\"http://example.org/\")\n",
    "kg.bind_ns(\"ex\", ex)\n",
    "kg.add((ex.John, rdflib.RDF.type, ex.Person))\n",
    "kg.add((ex.John, ex.name, rdflib.Literal(\"John Doe\")))\n",
    "kg.add((ex.John, ex.knows, ex.Jane))\n",
    "\n",
    "print(f\"Created graph with {len(kg)} triples\")\n",
    "\n",
    "# Save to Parquet file\n",
    "kg.save_parquet(\"example.parquet\")\n",
    "print(\"Saved graph to Parquet file\")\n",
    "\n",
    "# Load from Parquet file\n",
    "kg2 = KnowledgeGraph().load_parquet(\"example.parquet\")\n",
    "print(f\"Loaded {len(kg2)} triples from Parquet file\")\n",
    "\n",
    "# Query the graph\n",
    "results = list(kg2.query(\"\"\"\n",
    "    SELECT ?name WHERE {\n",
    "        ?person a <http://example.org/Person> .\n",
    "        ?person <http://example.org/name> ?name .\n",
    "    }\n",
    "\"\"\"))\n",
    "\n",
    "for row in results:\n",
    "    print(f\"Found person: {row[0]}\")\n"
   ]
  },
  {
   "cell_type": "markdown",
   "metadata": {},
   "source": [
    "### Using SQLite as a simple triple store."
   ]
  },
  {
   "cell_type": "code",
   "execution_count": null,
   "metadata": {},
   "outputs": [
    {
     "name": "stdout",
     "output_type": "stream",
     "text": [
      "Added 3 triples to the database\n",
      "Loaded 3 triples from the database\n",
      "Found person: John Doe\n"
     ]
    }
   ],
   "source": [
    "from fastkg.core import KnowledgeGraph\n",
    "from fastkg.sqlite import *\n",
    "import rdflib\n",
    "\n",
    "# Create a knowledge graph and connect to SQLite\n",
    "kg = KnowledgeGraph()\n",
    "kg.connect_sqlite(\"example.db\", create=True)\n",
    "\n",
    "# Add some triples directly to the SQLite-backed graph\n",
    "ex = rdflib.Namespace(\"http://example.org/\")\n",
    "kg.bind_ns(\"ex\", ex)\n",
    "kg.add((ex.John, rdflib.RDF.type, ex.Person))\n",
    "kg.add((ex.John, ex.name, rdflib.Literal(\"John Doe\")))\n",
    "kg.add((ex.John, ex.knows, ex.Jane))\n",
    "\n",
    "print(f\"Added {len(kg)} triples to the database\")\n",
    "\n",
    "# Close the connection when done\n",
    "kg.close();\n",
    "\n",
    "# Load from SQLite\n",
    "kg2 = KnowledgeGraph()\n",
    "kg2.connect_sqlite(\"example.db\", create=False)\n",
    "\n",
    "print(f\"Loaded {len(kg2)} triples from the database\")\n",
    "\n",
    "# Query the graph\n",
    "results = list(kg2.query(\"\"\"\n",
    "    SELECT ?name WHERE {\n",
    "        ?person a <http://example.org/Person> .\n",
    "        ?person <http://example.org/name> ?name .\n",
    "    }\n",
    "\"\"\"))\n",
    "\n",
    "for row in results:\n",
    "    print(f\"Found person: {row[0]}\")\n",
    "\n",
    "# Don't forget to close the connection\n",
    "kg2.close();\n"
   ]
  },
  {
   "cell_type": "markdown",
   "metadata": {},
   "source": [
    "## Use Cases for RAG Systems\n",
    "\n",
    "This library is particularly useful for LLM-based Retrieval Augmented Generation systems:\n",
    "\n",
    "- **Agent Memory**: Store structured knowledge that persists between sessions\n",
    "- **Knowledge Graphs**: Maintain entity relationships for complex reasoning\n",
    "- **Efficient Retrieval**: Query relevant subgraphs to include in LLM context windows\n",
    "\n",
    "## Core Features\n",
    "\n",
    "The library includes:\n",
    "\n",
    "1. `KnowledgeGraph` class - A wrapper around RDFLib's Graph with additional storage capabilities\n",
    "2. Parquet storage - Fast columnar storage for large graphs\n",
    "3. SQLite storage - Indexed, portable database storage\n",
    "4. Helper methods for common graph operations\n",
    "\n",
    "## Contributing\n",
    "\n",
    "Contributions are welcome! Please feel free to submit a Pull Request."
   ]
  },
  {
   "cell_type": "markdown",
   "metadata": {},
   "source": [
    "Documentation can be found hosted on this GitHub [repository][repo]'s [pages][docs]. Additionally you can find package manager specific guidelines on [conda][conda] and [pypi][pypi] respectively.\n",
    "\n",
    "[repo]: {{git_url}}\n",
    "[docs]: https://{{user}}.github.io/{{lib_name}}/"
   ]
  }
 ],
 "metadata": {
  "kernelspec": {
   "display_name": "python3",
   "language": "python",
   "name": "python3"
  }
 },
 "nbformat": 4,
 "nbformat_minor": 4
}
